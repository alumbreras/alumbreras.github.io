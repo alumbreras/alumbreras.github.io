{
 "cells": [
  {
   "cell_type": "markdown",
   "metadata": {},
   "source": [
    "## Introduction\n",
    "\n",
    "*\"Imagine you have two binary classifiers, one with 90\\% accuracy and another with 95\\% accuracy. Which one do you choose?\"*\n",
    "\n",
    "This is a real question from an interview. In this post we are going to learn some common methods for *model selection*"
   ]
  },
  {
   "cell_type": "markdown",
   "metadata": {},
   "source": [
    "## SVM and Logistic Regression"
   ]
  },
  {
   "cell_type": "code",
   "execution_count": 2,
   "metadata": {},
   "outputs": [
    {
     "ename": "SyntaxError",
     "evalue": "invalid syntax (<ipython-input-2-fb00d79688a4>, line 1)",
     "output_type": "error",
     "traceback": [
      "\u001b[0;36m  File \u001b[0;32m\"<ipython-input-2-fb00d79688a4>\"\u001b[0;36m, line \u001b[0;32m1\u001b[0m\n\u001b[0;31m    import scikit-learn\u001b[0m\n\u001b[0m                 ^\u001b[0m\n\u001b[0;31mSyntaxError\u001b[0m\u001b[0;31m:\u001b[0m invalid syntax\n"
     ]
    }
   ],
   "source": [
    "import scikit-learn.svm\n",
    "train(X)\n",
    "svm.predict(Y)"
   ]
  },
  {
   "cell_type": "markdown",
   "metadata": {
    "collapsed": true
   },
   "source": [
    "McNemar test.\n",
    "ANOVA\n",
    "Chi-Squared\n",
    "\n",
    "t-test da errores tipo I que se acumulan si repito el experimento (o si tengo varios grupos?)\n",
    "Para esto esta ANOVA\n",
    "\n",
    "Pero si tengo muchas muestras puedo usar z-score porque t-student distribution es una Gaussiana cuando hay muchos grados de libertad (muchos puntos)\n"
   ]
  },
  {
   "cell_type": "markdown",
   "metadata": {},
   "source": [
    "### References\n",
    "\n",
    "* http://web.cs.iastate.edu/~honavar/dietterich98approximate.pdf\n",
    "* https://www.youtube.com/watch?v=pTmLQvMM-1M"
   ]
  },
  {
   "cell_type": "code",
   "execution_count": null,
   "metadata": {
    "collapsed": true
   },
   "outputs": [],
   "source": []
  }
 ],
 "metadata": {
  "kernelspec": {
   "display_name": "Python 3",
   "language": "python",
   "name": "python3"
  },
  "language_info": {
   "codemirror_mode": {
    "name": "ipython",
    "version": 3
   },
   "file_extension": ".py",
   "mimetype": "text/x-python",
   "name": "python",
   "nbconvert_exporter": "python",
   "pygments_lexer": "ipython3",
   "version": "3.6.1"
  }
 },
 "nbformat": 4,
 "nbformat_minor": 2
}
